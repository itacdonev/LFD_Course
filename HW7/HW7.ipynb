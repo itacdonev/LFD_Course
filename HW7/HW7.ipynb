{
 "cells": [
  {
   "cell_type": "markdown",
   "metadata": {},
   "source": [
    "# Homework 7\n",
    "## Validation\n",
    "In the following problems, use the data provided in the files `in.dta` and `out.dta` for Homework # 6. We are going to apply linear regression with a nonlinear transformation for classification (without regularization). The nonlinear transformation is given by $\\phi_0$ through $\\phi_7$ which transform $(x_1, x_2)$ into\n",
    "$$\n",
    "(1, x_1, x_2, x^2_1, x^2_2, x_1x_2, |x_1-x_2|, |x_1+x_2|)\n",
    "$$  \n",
    "\n",
    "To illustrate how taking out points for validation affects the performance, we will consider the hypotheses trained on $\\mathcal D_{train}$ (without restoring the full $\\mathcal D$ for training after validation is done).  \n",
    "\n",
    "### Question 1 \n",
    "Split `in.dta` into training (first 25 examples) and validation (last 10 examples). Train on the 25 examples only, using the validation set of 10 examples to select between five models that apply linear regression to $\\phi_0$ through $\\phi_k$, with $k = 3, 4, 5, 6, 7$. For which model is the classification error on the validation set smallest?"
   ]
  },
  {
   "cell_type": "code",
   "execution_count": 1,
   "metadata": {
    "collapsed": true
   },
   "outputs": [],
   "source": [
    "import numpy as np\n",
    "import pandas as pd\n",
    "import matplotlib.pyplot as plt\n",
    "%config InlineBackend.figure_format = 'retina'"
   ]
  },
  {
   "cell_type": "code",
   "execution_count": 2,
   "metadata": {
    "collapsed": true
   },
   "outputs": [],
   "source": [
    "def lr_in_val():\n",
    "    # Compute the weights\n",
    "    wg = np.dot(np.dot(np.linalg.inv(np.dot(X.T,X)),X.T),y)\n",
    "    \n",
    "    # Estimate hypothesis\n",
    "    g = np.where(np.dot(X,wg) >= 0, 1, -1)\n",
    "        \n",
    "    # Compute in-sample error\n",
    "    Error = g - y\n",
    "    Ein = np.count_nonzero(Error)/N\n",
    "    \n",
    "    gv = np.where(np.dot(Xv,wg) >= 0, 1, -1)\n",
    "    Error_v = gv - yv\n",
    "    Eval = np.count_nonzero(Error_v)/Nv\n",
    "       \n",
    "    lr_out = {'w': wg,\n",
    "              'Ein': Ein,\n",
    "              'Eval': Eval}\n",
    "    \n",
    "    return lr_out"
   ]
  },
  {
   "cell_type": "code",
   "execution_count": 3,
   "metadata": {
    "collapsed": true
   },
   "outputs": [],
   "source": [
    "def data_split(train_n, X):\n",
    "    train = X[:train_n,:]\n",
    "    val = X[train_n:X.shape[0]+1,:]\n",
    "    return train, val"
   ]
  },
  {
   "cell_type": "code",
   "execution_count": 4,
   "metadata": {
    "collapsed": true
   },
   "outputs": [],
   "source": [
    "def x_transform(X):\n",
    "    x1 = X[:,0]\n",
    "    x2 = X[:,1]\n",
    "    N = x1.shape[0]\n",
    "    return np.column_stack([np.ones(N),\n",
    "                            X,\n",
    "                            X**2,\n",
    "                            x1*x2,\n",
    "                            np.absolute(x1 - x2),\n",
    "                            np.absolute(x1 + x2)])"
   ]
  },
  {
   "cell_type": "code",
   "execution_count": 5,
   "metadata": {
    "collapsed": false
   },
   "outputs": [
    {
     "name": "stdout",
     "output_type": "stream",
     "text": [
      "The dimensions of the train data sample is : (35, 3)\n",
      "The dimensions of the test data sample is : (250, 3)\n"
     ]
    }
   ],
   "source": [
    "# Import data\n",
    "in_data = np.loadtxt('Data/in.dta')\n",
    "out_data = np.loadtxt('Data/out.dta')\n",
    "print('The dimensions of the train data sample is :',in_data.shape)\n",
    "print('The dimensions of the test data sample is :',out_data.shape)"
   ]
  },
  {
   "cell_type": "markdown",
   "metadata": {},
   "source": [
    "First we split the input data set to get train and validation data set where `train` data set should have first 25 examples and the rest should be allocated to `val` data set."
   ]
  },
  {
   "cell_type": "code",
   "execution_count": 6,
   "metadata": {
    "collapsed": true
   },
   "outputs": [],
   "source": [
    "#np.random.shuffle(in_data) # shuffle data to randomly select train and test\n",
    "\n",
    "train_n = 25 # number of examples for the train set\n",
    "train, val = data_split(train_n, in_data)\n",
    "train_x = train[:,:2]\n",
    "train_y = train[:,2]\n",
    "val_x = val[:,:2]\n",
    "val_y = val[:,2]\n",
    "N = train_x.shape[0]\n",
    "Nv = val_x.shape[0]"
   ]
  },
  {
   "cell_type": "markdown",
   "metadata": {},
   "source": [
    "Apply data transformation to both `train` and `val` data sets."
   ]
  },
  {
   "cell_type": "code",
   "execution_count": 7,
   "metadata": {
    "collapsed": true
   },
   "outputs": [],
   "source": [
    "Z = x_transform(train_x)\n",
    "Zv = x_transform(val_x)"
   ]
  },
  {
   "cell_type": "code",
   "execution_count": 8,
   "metadata": {
    "collapsed": true
   },
   "outputs": [],
   "source": [
    "# Choose models we want to test\n",
    "k = [3,4,5,6,7]\n",
    "\n",
    "E_val = []\n",
    "wg = []\n",
    "for i in k:\n",
    "    X = Z[:,:i+1]\n",
    "    Xv = Zv[:,:i+1]\n",
    "    y = train_y\n",
    "    yv = val_y\n",
    "    Nv = Xv.shape[0]\n",
    "    lr_out = lr_in_val()\n",
    "    E_val.append(lr_out['Eval'])\n",
    "    wg.append(lr_out['w'])"
   ]
  },
  {
   "cell_type": "code",
   "execution_count": 9,
   "metadata": {
    "collapsed": false
   },
   "outputs": [
    {
     "data": {
      "text/html": [
       "<div>\n",
       "<table border=\"1\" class=\"dataframe\">\n",
       "  <thead>\n",
       "    <tr style=\"text-align: right;\">\n",
       "      <th></th>\n",
       "      <th>E_val</th>\n",
       "      <th>k</th>\n",
       "    </tr>\n",
       "  </thead>\n",
       "  <tbody>\n",
       "    <tr>\n",
       "      <th>0</th>\n",
       "      <td>0.3</td>\n",
       "      <td>3</td>\n",
       "    </tr>\n",
       "    <tr>\n",
       "      <th>1</th>\n",
       "      <td>0.5</td>\n",
       "      <td>4</td>\n",
       "    </tr>\n",
       "    <tr>\n",
       "      <th>2</th>\n",
       "      <td>0.2</td>\n",
       "      <td>5</td>\n",
       "    </tr>\n",
       "    <tr>\n",
       "      <th>3</th>\n",
       "      <td>0.0</td>\n",
       "      <td>6</td>\n",
       "    </tr>\n",
       "    <tr>\n",
       "      <th>4</th>\n",
       "      <td>0.1</td>\n",
       "      <td>7</td>\n",
       "    </tr>\n",
       "  </tbody>\n",
       "</table>\n",
       "</div>"
      ],
      "text/plain": [
       "   E_val  k\n",
       "0    0.3  3\n",
       "1    0.5  4\n",
       "2    0.2  5\n",
       "3    0.0  6\n",
       "4    0.1  7"
      ]
     },
     "execution_count": 9,
     "metadata": {},
     "output_type": "execute_result"
    }
   ],
   "source": [
    "d = {'k':k, 'E_val':E_val}\n",
    "pd.DataFrame(data = d)"
   ]
  },
  {
   "cell_type": "code",
   "execution_count": 10,
   "metadata": {
    "collapsed": false
   },
   "outputs": [
    {
     "data": {
      "image/png": "[encoded data removed]",
      "text/plain": [
       "<matplotlib.figure.Figure at 0x104b8d860>"
      ]
     },
     "metadata": {
      "image/png": {
       "height": 265,
       "width": 736
      }
     },
     "output_type": "display_data"
    }
   ],
   "source": [
    "u = np.linspace(-1.,1., 1000)\n",
    "A,B = np.meshgrid(u,u)\n",
    "\n",
    "# k = 6\n",
    "plt.figure(figsize=(12, 4))\n",
    "plt.subplot(1,2,1)\n",
    "z = wg[4][0] + wg[4][1]*A + wg[4][2]*B + wg[4][3]*A**2 + wg[4][4]*B**2 + wg[4][5]*A*B + wg[4][6]*np.absolute(A-B) + wg[4][7]*np.absolute(A + B)\n",
    "plt.scatter(train_x[:,0], train_x[:,1], c=y, cmap=plt.get_cmap('RdYlBu',2))\n",
    "db = plt.contour(A, B, z, levels = [0], colors = 'green') # lambda = 0\n",
    "plt.ylabel(r'$x_2$')\n",
    "plt.xlabel(r'$x_1$')\n",
    "\n",
    "plt.subplot(1,2,2)\n",
    "plt.scatter(val_x[:,0], val_x[:,1], c=yv, cmap=plt.get_cmap('RdYlBu',2))\n",
    "db = plt.contour(A, B, z, levels = [0], colors = 'green') # lambda = 0\n",
    "plt.ylabel(r'$x_2$')\n",
    "plt.xlabel(r'$x_1$')\n",
    "plt.show()"
   ]
  },
  {
   "cell_type": "markdown",
   "metadata": {},
   "source": [
    "Answer is (d)."
   ]
  },
  {
   "cell_type": "markdown",
   "metadata": {
    "collapsed": true
   },
   "source": [
    "### Question 2\n",
    "Evaluate the out-of-sample classification error using `out.dta` on the 5 models to see how well the validation set predicted the best of the 5 models. For which model is the out-of-sample classification error smallest?"
   ]
  },
  {
   "cell_type": "markdown",
   "metadata": {},
   "source": [
    "**Answer**: The weights of all five models are stored in `w` which we will use in this problem."
   ]
  },
  {
   "cell_type": "code",
   "execution_count": 11,
   "metadata": {
    "collapsed": true
   },
   "outputs": [],
   "source": [
    "def lr_test(Xt,yt,w):        \n",
    "    # Compute out-of-sample error\n",
    "    gt = np.where(np.dot(Xt,w) >= 0, 1, -1)\n",
    "    Error_t = gt - yt\n",
    "    Eout = np.count_nonzero(Error_t)/Nt\n",
    "       \n",
    "    return Eout"
   ]
  },
  {
   "cell_type": "code",
   "execution_count": 12,
   "metadata": {
    "collapsed": true
   },
   "outputs": [],
   "source": [
    "test_x = out_data[:,:2]\n",
    "yt = out_data[:,2]\n",
    "Nt = test_x.shape[0]\n",
    "Zt = x_transform(test_x)"
   ]
  },
  {
   "cell_type": "code",
   "execution_count": 13,
   "metadata": {
    "collapsed": true
   },
   "outputs": [],
   "source": [
    "E_out = []\n",
    "for i,j in zip(k,range(len(k))):\n",
    "    Xt = Zt[:,:i+1]\n",
    "    w = wg[j]\n",
    "    \n",
    "    Eout = lr_test(Xt, yt, w)\n",
    "    E_out.append(Eout)"
   ]
  },
  {
   "cell_type": "code",
   "execution_count": 14,
   "metadata": {
    "collapsed": false
   },
   "outputs": [
    {
     "data": {
      "text/html": [
       "<div>\n",
       "<table border=\"1\" class=\"dataframe\">\n",
       "  <thead>\n",
       "    <tr style=\"text-align: right;\">\n",
       "      <th></th>\n",
       "      <th>E_out</th>\n",
       "      <th>k</th>\n",
       "    </tr>\n",
       "  </thead>\n",
       "  <tbody>\n",
       "    <tr>\n",
       "      <th>0</th>\n",
       "      <td>0.420</td>\n",
       "      <td>3</td>\n",
       "    </tr>\n",
       "    <tr>\n",
       "      <th>1</th>\n",
       "      <td>0.416</td>\n",
       "      <td>4</td>\n",
       "    </tr>\n",
       "    <tr>\n",
       "      <th>2</th>\n",
       "      <td>0.188</td>\n",
       "      <td>5</td>\n",
       "    </tr>\n",
       "    <tr>\n",
       "      <th>3</th>\n",
       "      <td>0.084</td>\n",
       "      <td>6</td>\n",
       "    </tr>\n",
       "    <tr>\n",
       "      <th>4</th>\n",
       "      <td>0.072</td>\n",
       "      <td>7</td>\n",
       "    </tr>\n",
       "  </tbody>\n",
       "</table>\n",
       "</div>"
      ],
      "text/plain": [
       "   E_out  k\n",
       "0  0.420  3\n",
       "1  0.416  4\n",
       "2  0.188  5\n",
       "3  0.084  6\n",
       "4  0.072  7"
      ]
     },
     "execution_count": 14,
     "metadata": {},
     "output_type": "execute_result"
    }
   ],
   "source": [
    "dt = {'k':k, 'E_out':E_out}\n",
    "pd.DataFrame(data = dt)"
   ]
  },
  {
   "cell_type": "markdown",
   "metadata": {},
   "source": [
    "Out-of-sample error is smallest for model with $k=7$ so answer is (e)."
   ]
  },
  {
   "cell_type": "markdown",
   "metadata": {},
   "source": [
    "### Question 3\n",
    "Reverse the role of training and validation sets; now training with the last 10 examples and validating with the first 25 examples. For which model is the classification error on the validation set smallest?"
   ]
  },
  {
   "cell_type": "code",
   "execution_count": 15,
   "metadata": {
    "collapsed": true
   },
   "outputs": [],
   "source": [
    "# Choose models we want to test\n",
    "k = [3,4,5,6,7]\n",
    "\n",
    "E_val_1 = []\n",
    "wg1 = []\n",
    "for i in k:\n",
    "    Xv = Z[:,:i+1]\n",
    "    X = Zv[:,:i+1]\n",
    "    yv = train_y\n",
    "    y = val_y\n",
    "    Nv = X.shape[0]\n",
    "    lr_out = lr_in_val()\n",
    "    E_val_1.append(lr_out['Eval'])\n",
    "    wg1.append(lr_out['w'])"
   ]
  },
  {
   "cell_type": "code",
   "execution_count": 16,
   "metadata": {
    "collapsed": false
   },
   "outputs": [
    {
     "data": {
      "text/html": [
       "<div>\n",
       "<table border=\"1\" class=\"dataframe\">\n",
       "  <thead>\n",
       "    <tr style=\"text-align: right;\">\n",
       "      <th></th>\n",
       "      <th>E_val</th>\n",
       "      <th>k</th>\n",
       "    </tr>\n",
       "  </thead>\n",
       "  <tbody>\n",
       "    <tr>\n",
       "      <th>0</th>\n",
       "      <td>0.7</td>\n",
       "      <td>3</td>\n",
       "    </tr>\n",
       "    <tr>\n",
       "      <th>1</th>\n",
       "      <td>0.9</td>\n",
       "      <td>4</td>\n",
       "    </tr>\n",
       "    <tr>\n",
       "      <th>2</th>\n",
       "      <td>0.5</td>\n",
       "      <td>5</td>\n",
       "    </tr>\n",
       "    <tr>\n",
       "      <th>3</th>\n",
       "      <td>0.2</td>\n",
       "      <td>6</td>\n",
       "    </tr>\n",
       "    <tr>\n",
       "      <th>4</th>\n",
       "      <td>0.3</td>\n",
       "      <td>7</td>\n",
       "    </tr>\n",
       "  </tbody>\n",
       "</table>\n",
       "</div>"
      ],
      "text/plain": [
       "   E_val  k\n",
       "0    0.7  3\n",
       "1    0.9  4\n",
       "2    0.5  5\n",
       "3    0.2  6\n",
       "4    0.3  7"
      ]
     },
     "execution_count": 16,
     "metadata": {},
     "output_type": "execute_result"
    }
   ],
   "source": [
    "d1 = {'k':k, 'E_val':E_val_1}\n",
    "pd.DataFrame(data = d1)"
   ]
  },
  {
   "cell_type": "markdown",
   "metadata": {},
   "source": [
    "Much higher errors than in Q1 data split structure, but still model with $k=6$ performs the best with the smallest validation error. Hence, answer is (d)."
   ]
  },
  {
   "cell_type": "markdown",
   "metadata": {},
   "source": [
    "### Question 4\n",
    "Once again, evaluate the out-of-sample classification error using `out.dta` on the 5 models to see how well the validation set predicted the best of the 5 models. For which model is the out-of-sample classification error smallest?"
   ]
  },
  {
   "cell_type": "code",
   "execution_count": 17,
   "metadata": {
    "collapsed": true
   },
   "outputs": [],
   "source": [
    "E_out_1 = []\n",
    "for i,j in zip(k,range(len(k))):\n",
    "    Xt = Zt[:,:i+1]\n",
    "    w = wg1[j]\n",
    "    \n",
    "    Eout = lr_test(Xt, yt, w)\n",
    "    E_out_1.append(Eout)"
   ]
  },
  {
   "cell_type": "code",
   "execution_count": 18,
   "metadata": {
    "collapsed": false
   },
   "outputs": [
    {
     "data": {
      "text/html": [
       "<div>\n",
       "<table border=\"1\" class=\"dataframe\">\n",
       "  <thead>\n",
       "    <tr style=\"text-align: right;\">\n",
       "      <th></th>\n",
       "      <th>E_out</th>\n",
       "      <th>k</th>\n",
       "    </tr>\n",
       "  </thead>\n",
       "  <tbody>\n",
       "    <tr>\n",
       "      <th>0</th>\n",
       "      <td>0.396</td>\n",
       "      <td>3</td>\n",
       "    </tr>\n",
       "    <tr>\n",
       "      <th>1</th>\n",
       "      <td>0.388</td>\n",
       "      <td>4</td>\n",
       "    </tr>\n",
       "    <tr>\n",
       "      <th>2</th>\n",
       "      <td>0.284</td>\n",
       "      <td>5</td>\n",
       "    </tr>\n",
       "    <tr>\n",
       "      <th>3</th>\n",
       "      <td>0.192</td>\n",
       "      <td>6</td>\n",
       "    </tr>\n",
       "    <tr>\n",
       "      <th>4</th>\n",
       "      <td>0.196</td>\n",
       "      <td>7</td>\n",
       "    </tr>\n",
       "  </tbody>\n",
       "</table>\n",
       "</div>"
      ],
      "text/plain": [
       "   E_out  k\n",
       "0  0.396  3\n",
       "1  0.388  4\n",
       "2  0.284  5\n",
       "3  0.192  6\n",
       "4  0.196  7"
      ]
     },
     "execution_count": 18,
     "metadata": {},
     "output_type": "execute_result"
    }
   ],
   "source": [
    "dt1 = {'k':k, 'E_out':E_out_1}\n",
    "pd.DataFrame(data = dt1)"
   ]
  },
  {
   "cell_type": "markdown",
   "metadata": {},
   "source": [
    "Now model with the smallest out-of-sample error is $k=6$ model. Hence, the answer is (d)."
   ]
  },
  {
   "cell_type": "markdown",
   "metadata": {},
   "source": [
    "### Question 5\n",
    "What values are closest in Euclidean distance to the out-of-sample classification error obtained for the model chosen in Problems 1 and 3, respectively?"
   ]
  },
  {
   "cell_type": "code",
   "execution_count": 19,
   "metadata": {
    "collapsed": false
   },
   "outputs": [
    {
     "name": "stdout",
     "output_type": "stream",
     "text": [
      "The value closest to E_out is  0.1 , 0.2\n"
     ]
    }
   ],
   "source": [
    "print('The value closest to E_out is ', \n",
    "      min([0.0, 0.1, 0.1, 0.2, 0.2], key=lambda x:abs(x-np.min(E_out))),',',\n",
    "      min([0.1, 0.2, 0.3, 0.2, 0.3], key=lambda x:abs(x-np.min(E_out_1))))"
   ]
  },
  {
   "cell_type": "markdown",
   "metadata": {},
   "source": [
    "So the answer is (b)."
   ]
  },
  {
   "cell_type": "markdown",
   "metadata": {},
   "source": [
    "## Validation bias\n",
    "### Question 6\n"
   ]
  },
  {
   "cell_type": "markdown",
   "metadata": {},
   "source": [
    "Let $e_1$ and $e_2$ be independent random variables, distributed uniformly over the interval $[0, 1]$. Let $e = min(e_1, e_2)$. The expected values of $e_1, e_2, e$ are closest to"
   ]
  },
  {
   "cell_type": "markdown",
   "metadata": {},
   "source": [
    "**Answer**: We have that $e_1\\sim U(0,1)$ and $e_2\\sim U(0,1)$ and independent. Then\n",
    "$$\n",
    "f(e_1)=f(e_2)=\\frac{1}{b-a}=1\n",
    "$$ \n",
    "on $0\\leq e_1,e_2 \\leq 1$.  \n",
    "Recall that the exepcted value is computed by $E(x)=\\int_{a}^{b}xf(x)dx$. Hence, for $e_1$ and $e1_2$ we have \n",
    "\n",
    "$$\n",
    "E(e_1)=\\int_{0}^{1}e_1f(e_1)de_1=\\frac{(e_1)^2}{2}=\\frac{1}{2}\n",
    "$$\n",
    "$$\n",
    "E(e_2)=\\int_{0}^{1}e_2f(e_2)de_1=\\frac{(e_2)^2}{2}=\\frac{1}{2}\n",
    "$$\n",
    "\n",
    "For $e$ we first need to compute the density.   \n",
    "$$\n",
    "\\begin{align}\n",
    "P(min(e_1,e_2)\\leq t) &= 1-P(e_1\\geq t, e_2\\geq t) \\\\\n",
    "&=\\text{\\{by independence\\}} \\\\\n",
    "&=1-P(e_1\\geq t)P(e_2\\geq t) \\\\\n",
    "&= 1-(1-P(e_i\\leq t))^2 \\\\\n",
    "&={\\{F(x) \\text { on } (0,1) \\text { is } x \\}} \\\\\n",
    "&=1-(1-t)^2\n",
    "\\end{align}\n",
    "$$ \n",
    "Differentiating wrt $t$ we have that $f(e)=2(1-t)$. Then the expected value is\n",
    "$$\n",
    "E(min(e_1,e_2))=\\int_{0}^{1}t(2(1-t))dt = 2\\int_{0}^{1}t(1-t)dt \\\\\n",
    "=2\\bigg( \\frac{t^2}{2} - \\frac{t^3}{3}\\bigg) \\\\\n",
    "= 2\\frac{1}{6} = \\frac{1}{3}\n",
    "$$\n",
    "So, the answer is $(0.5,0.5,0.33)$ i.e. (d)."
   ]
  },
  {
   "cell_type": "markdown",
   "metadata": {},
   "source": [
    "### Question 7\n",
    "You are given the data points $(x, y): (-1, 0), (\\rho, 1), (1, 0), \\rho \\geq 0$, and a choice\n",
    "between two models: constant $h_0(x) = b$ and linear $h_1(x) = ax + b$. For which value of $\\rho$ would the two models be tied using leave-one-out cross-validation with the squared error measure?"
   ]
  },
  {
   "cell_type": "markdown",
   "metadata": {},
   "source": [
    "**Answer**: For two models to have the same value of cross-validation error measure it needs to satisfy the following equality\n",
    "$$\n",
    "\\frac{1}{3}\\bigg( e_1^{h_0}+ e_2^{h_0} + e_2^{h_0}\\bigg) = \\frac{1}{3}\\bigg( e_1^{h_1}+ e_2^{h_1} + e_2^{h_1} \\bigg)\n",
    "$$\n",
    "So, we need to compute the error terms using the CV method, i.e. out of the three points given we always take one to compute the error and the two to fit the model. Since there are three points there will be three error measures (on each side), which we divide by 3 to average the errors out. Visually, we can present the problem as follows\n",
    "<img src=\"HW7_P7.png\" alt=\"Drawing\" style=\"width: 850px;\"/>"
   ]
  },
  {
   "cell_type": "markdown",
   "metadata": {},
   "source": [
    "Note that in the above figures the purple lines depend on $\\rho$ so until we compute the value we don't know which exactly it will be. The red square denotes the point that is left out from the `train` sample. Before computing recall that the squared error of the red square to the hypothesis is computed as follows $error = (h(x)-y)^2 = ((ax_1+b)-y_1)^2$.   \n",
    "\n",
    "So, let's first compute $h_0(x)=b$. First we leave out the first data point i.e. $(-1,0)$ and use the remaining two to compute the model hypothesis, i.e.\n",
    "$$\n",
    "h_0(x)^{(1)}=\\frac{1+0}{2}=\\frac{1}{2} \\\\\n",
    "e_1^{(h_0)}= (\\frac{1}{2}-0)^2=\\frac{1}{4}\n",
    "$$  \n",
    "\n",
    "Next, for $e_2$ we leave the middle point out and compute the error:  \n",
    "\n",
    "$$\n",
    "h_0(x)^{(2)}=\\frac{0+0}{2}=0 \\\\\n",
    "e_2^{(h_0)}= (0-1)^2=1\n",
    "$$\n",
    "\n",
    "And finally for $e_3$ we leave the third point out and compute the error:\n",
    "\n",
    "$$\n",
    "h_0(x)^{(3)}=\\frac{0+1}{2}=\\frac{1}{2} \\\\\n",
    "e_3^{(h_0)}= (\\frac{1}{2}-0)^2=\\frac{1}{4}\n",
    "$$\n",
    "\n",
    "So now for the left hand side of the equality we set up we have the following:\n",
    "\n",
    "$$\n",
    "\\frac{1}{3}\\bigg( \\frac{1}{4}+ 1 + \\frac{1}{4}\\bigg) = \\frac{1}{3}\\bigg( e_1^{h_1}+ e_2^{h_1} + e_2^{h_1} \\bigg) \\\\\n",
    "\\frac{1}{2} = \\frac{1}{3}\\bigg( e_1^{h_1}+ e_2^{h_1} + e_2^{h_1} \\bigg)\n",
    "$$"
   ]
  },
  {
   "cell_type": "markdown",
   "metadata": {},
   "source": [
    "Now, we need to compute the rhs using the same step process as we did for $h_0(x)$. Hence, in the same manner we first leave the first data point out and compute the $h_1(x)=ax+b$ and the corresponding error using $\\{(\\rho, 1), (1, 0)\\}$. First we nee to compute the slope and then the intercept to obtain $h_1(x)$.\n",
    "\n",
    "$$\n",
    "m = \\frac{y_2-y_1}{x_2-x_1}=\\frac{0-1}{1-\\rho}=-\\frac{1}{1-\\rho} \\\\\n",
    "y-y_1=m(x-x_1) \\\\\n",
    "y-0=-\\frac{1}{1-\\rho}(x-1) \\\\\n",
    "y=-\\frac{1}{1-\\rho}x+\\frac{1}{1-\\rho}\n",
    "$$  \n",
    "Then the error is\n",
    "$$\n",
    "\\begin{align}\n",
    "e_1^{(h_1)}&=(\\frac{1}{1-\\rho}+\\frac{1}{1-\\rho}-0)^2 \\\\\n",
    "&=\\bigg(\\frac{2}{1-\\rho}\\bigg)^2\n",
    "\\end{align}\n",
    "$$  \n",
    "\n",
    "Now, we take the second point $(rho,1)$ out and compute the $h_1(x)$ using $(-1,0),(1,0)$ and the error.  \n",
    "\n",
    "$$\n",
    "m = \\frac{y_2-y_1}{x_2-x_1}=\\frac{0-0}{1-(-1)}=0 \\\\\n",
    "y-1=0(x-\\rho) \\\\\n",
    "y=0\n",
    "$$\n",
    "Then the error is equal to\n",
    "$$\n",
    "e_2^{(h_1)} = (0-1)^2=1\n",
    "$$\n",
    "\n",
    "And lastly, we take the last point $(1,0)$ out and compute $h_1(x)$ on $(-1,0),(\\rho,1)$\n",
    "\n",
    "$$\n",
    "m = \\frac{y_2-y_1}{x_2-x_1}=\\frac{1-0}{\\rho-(-1)}=\\frac{1}{1+\\rho} \\\\\n",
    "y-y_1=m(x-x_1) \\\\\n",
    "y-0=\\frac{1}{1+\\rho}(x-(-1))) \\\\\n",
    "y=\\frac{1}{1+\\rho}x+\\frac{1}{1+\\rho}\n",
    "$$\n",
    "Then the error is\n",
    "$$\n",
    "\\begin{align}\n",
    "e_3^{(h_1)} &= (\\frac{1}{1+\\rho}(1)+\\frac{1}{1+\\rho}-0)^2 \\\\\n",
    "&=\\bigg(\\frac{2}{1+\\rho}\\bigg)^2\n",
    "\\end{align}\n",
    "$$ \n",
    "Now we can fill in the rhs to obtain\n",
    "$$\n",
    "\\frac{1}{2} = \\frac{1}{3}\\bigg( \\bigg(\\frac{2}{1-\\rho}\\bigg)^2 + 1 + \\bigg(\\frac{2}{1+\\rho}\\bigg)^2 \\bigg) \n",
    "$$  \n",
    "\n",
    "after some algebra simplification we obtain $\\rho^4-18\\rho^2-15=0$. We can solve for $\\rho$ by substituting $\\rho^2=x$ and use quadratic equation solution.  \n",
    "\n",
    "$$\n",
    "x^2-18x-15=0 \\\\\n",
    "\\begin{align}\n",
    "x_{1,2}&=\\frac{-b \\pm \\sqrt{b^2-4ac}}{2a} \\\\\n",
    "&=\\frac{-(-18) \\pm \\sqrt{(-18)^2-4(1)(-15)}}{2(1)} \\\\\n",
    "&=\\frac{18 \\pm \\sqrt{384}}{2} \\\\\n",
    "&=\\frac{18 \\pm 8\\sqrt{6}}{2} \\\\\n",
    "&=9 \\pm 4\\sqrt{6}\n",
    "\\end{align}\n",
    "$$\n",
    "Then since $\\rho \\geq 0$ we only take the positive solution, to finally obtain\n",
    "$$\n",
    "\\rho = \\sqrt{9 + 4\\sqrt{6}}\n",
    "$$\n",
    "Hence, the answer is (c)."
   ]
  },
  {
   "cell_type": "markdown",
   "metadata": {},
   "source": [
    "## PLA vs. SVM\n",
    "*Notice: Quadratic Programming packages sometimes need tweaking and have numerical issues, and this is characteristic of packages you will use in practical ML situations. Your understanding of support vectors will help you get to the correct answers.*  \n",
    "\n",
    "In the following problems, we compare PLA to SVM with hard margin (for hard margin in SVM packages, set $C \\to \\infty$) on linearly separable data sets. \n",
    "\n",
    "For each run, you will create your own target function $f$ and data set $\\mathcal D$. Take $d = 2$ and choose a random line in the plane as your target function $f$ (do this by taking two random, uniformly distributed points on $[−1, 1] \\times [−1, 1]$ and taking the line passing through them), where one side of the line maps to +1 and the other maps to −1. Choose the inputs $x_n$ of the data set as random points in $\\mathcal X = [−1, 1]\\times [−1, 1]$, and evaluate the target function on each $x_n$ to get the corresponding output $y_n$. If all data points are on one side of the line, discard the run and start a new run.  \n",
    "\n",
    "Start PLA with the all-zero vector and pick the misclassified point for each PLA iteration at random. Run PLA to find the final hypothesis $g_{PLA}$ and measure the disagreement between $f$ and $g_{PLA}$ as $P[f(x) \\ne g_{PLA}(x)]$ (you can either calculate this exactly, or approximate it by generating a sufficiently large, separate set of points to evaluate it). Now, run SVM on the same data to find the final hypothesis $g_{SVM}$ by solving\n",
    "\n",
    "$$\n",
    "min_{\\mathbf w ,b}\\  \\ \\frac{1}{2} \\mathbf w^T\\mathbf w \\\\\n",
    "\\text{s.t.}\\  \\ y_n(\\mathbf w^T \\mathbf x_n+b)\\geq1\n",
    "$$ \n",
    "\n",
    "using quadratic programming on the primal (Primal problem is the original formulation in slide 11 of Lecture 14.) or the dual problem, or using an SVM package. Measure the disagreement between $f$ and $g_{SVM}$ as $P[f(x) \\ne g_{SVM}(x)]$, and count the number of support vectors you get in each run.\n",
    "### Question 8\n",
    "For $N = 10$, repeat the above experiment for 1000 runs. How often is $g_{SVM}$ better than $g_{PLA}$ in approximating $f$? The percentage of time is closest to _?"
   ]
  },
  {
   "cell_type": "code",
   "execution_count": null,
   "metadata": {
    "collapsed": true
   },
   "outputs": [],
   "source": []
  },
  {
   "cell_type": "markdown",
   "metadata": {},
   "source": [
    "### Question 9\n",
    "For $N = 100$, repeat the above experiment for 1000 runs. How often is $g_{SVM}$ better than $g_{PLA}$ in approximating $f$? The percentage of time is closest to:"
   ]
  },
  {
   "cell_type": "code",
   "execution_count": null,
   "metadata": {
    "collapsed": true
   },
   "outputs": [],
   "source": []
  },
  {
   "cell_type": "markdown",
   "metadata": {},
   "source": [
    "### Question 10\n",
    "For the case $N = 100$, which of the following is the closest to the average number of support vectors of $g_{SVM}$ (averaged over the 1000 runs)?"
   ]
  },
  {
   "cell_type": "code",
   "execution_count": null,
   "metadata": {
    "collapsed": true
   },
   "outputs": [],
   "source": []
  }
 ],
 "metadata": {
  "kernelspec": {
   "display_name": "Python 3",
   "language": "python",
   "name": "python3"
  },
  "language_info": {
   "codemirror_mode": {
    "name": "ipython",
    "version": 3
   },
   "file_extension": ".py",
   "mimetype": "text/x-python",
   "name": "python",
   "nbconvert_exporter": "python",
   "pygments_lexer": "ipython3",
   "version": "3.6.0"
  }
 },
 "nbformat": 4,
 "nbformat_minor": 2
}
