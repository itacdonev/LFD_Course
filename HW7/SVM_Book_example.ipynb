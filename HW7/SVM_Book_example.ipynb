{
 "cells": [
  {
   "cell_type": "markdown",
   "metadata": {},
   "source": [
    "# Example 8.3 (from the book)"
   ]
  },
  {
   "cell_type": "code",
   "execution_count": 1,
   "metadata": {
    "collapsed": true
   },
   "outputs": [],
   "source": [
    "import numpy as np\n",
    "from cvxopt import matrix, solvers"
   ]
  },
  {
   "cell_type": "markdown",
   "metadata": {},
   "source": [
    "The input data is given as follows:"
   ]
  },
  {
   "cell_type": "code",
   "execution_count": 2,
   "metadata": {},
   "outputs": [
    {
     "name": "stdout",
     "output_type": "stream",
     "text": [
      "Dimension of X is  (4, 2)\n",
      "Dimension of y is  (4,)\n"
     ]
    }
   ],
   "source": [
    "X = np.array([[0,2,2,3],[0,2,0,0]]).T\n",
    "y = np.array([-1,-1,1,1])\n",
    "print('Dimension of X is ', X.shape)\n",
    "print('Dimension of y is ', y.shape)"
   ]
  },
  {
   "cell_type": "markdown",
   "metadata": {},
   "source": [
    "## Primal Problem Formulation\n",
    "$\\newcommand{\\R}{\\mathbb{R}}$\n",
    "We start witht he primal problem formulation. According to the equation (8.6) on page 9 in the book we have the following:\n",
    "$$\n",
    "min_{u \\in \\R^L} \\ \\ \\frac{1}{2}\\mathbf u^TQ\\mathbf u + \\mathbf p^T\\mathbf u\n",
    "$$\n",
    "$$\n",
    "\\text{s.t. }\\ \\ A\\mathbf u \\geq c\n",
    "$$\n",
    "\n",
    "Now, we need to define the input for the QP solver for:  \n",
    "- $Q$ with $(L,L)$ dimension  \n",
    "- $\\mathbf p$ with $(L,1)$ dimension \n",
    "- $A$ with $(M,L)$ dimension\n",
    "- $\\mathbf c$ with $(M,1)$ dimension\n",
    "\n",
    "So, let's get the dimensions first:"
   ]
  },
  {
   "cell_type": "code",
   "execution_count": 3,
   "metadata": {},
   "outputs": [
    {
     "name": "stdout",
     "output_type": "stream",
     "text": [
      "L =  3 and M =  4\n"
     ]
    }
   ],
   "source": [
    "d = X.shape[1]\n",
    "L = d + 1\n",
    "M = X.shape[0]\n",
    "print('L = ',L,'and M = ',M)"
   ]
  },
  {
   "cell_type": "markdown",
   "metadata": {},
   "source": [
    "We will use `cvxopt` solver with the structure as `cvxopt.solvers.qp(P, q[, G, h[, A, b[, solver[, initvals]]]])` which solves the following:\n",
    "$$\n",
    "min \\frac{1}{2}x^TPx+q^Tx\n",
    "$$\n",
    "$$\n",
    "\\text{s.t }Gx \\preceq h\n",
    "$$\n",
    "$$\n",
    "Ax=b\n",
    "$$\n",
    "\n",
    "Note that `P` and `q` are required whereas other inputs are optional. To equate it with our example we have the following:  \n",
    "- $\\mathbf x \\to \\mathbf u$\n",
    "- $P \\to Q$  \n",
    "- $q \\to p$\n",
    "- $G \\to A$\n",
    "- $c \\to h$  \n",
    "\n",
    "Note that we don't have $Ax=b$ condition, so we neglect this part. Also we need to negate $Au \\geq c$ to obtain the correct structure for the solver since it requires $Gx \\preceq h$. Now we can define each of the needed inputs for the QP:"
   ]
  },
  {
   "cell_type": "code",
   "execution_count": 4,
   "metadata": {
    "collapsed": true
   },
   "outputs": [],
   "source": [
    "p = np.zeros((L,1))\n",
    "Q = np.vstack([p.T,np.column_stack([p[1:],np.eye(d)])])\n",
    "A = -np.column_stack([y,y[:,None]*X])\n",
    "c = -np.ones((M))"
   ]
  },
  {
   "cell_type": "code",
   "execution_count": 5,
   "metadata": {},
   "outputs": [
    {
     "name": "stdout",
     "output_type": "stream",
     "text": [
      "     pcost       dcost       gap    pres   dres\n",
      " 0:  3.2653e-01  1.9592e+00  6e+00  2e+00  4e+00\n",
      " 1:  1.5796e+00  8.5663e-01  7e-01  1e-16  2e-15\n",
      " 2:  1.0195e+00  9.9227e-01  3e-02  0e+00  2e-15\n",
      " 3:  1.0002e+00  9.9992e-01  3e-04  3e-16  1e-15\n",
      " 4:  1.0000e+00  1.0000e+00  3e-06  3e-16  8e-16\n",
      " 5:  1.0000e+00  1.0000e+00  3e-08  0e+00  1e-15\n",
      "Optimal solution found.\n"
     ]
    },
    {
     "data": {
      "text/plain": [
       "array([[-1.00000001],\n",
       "       [ 1.00000001],\n",
       "       [-1.00000001]])"
      ]
     },
     "execution_count": 5,
     "metadata": {},
     "output_type": "execute_result"
    }
   ],
   "source": [
    "P = matrix(Q, tc = 'd')\n",
    "q = matrix(p, tc = 'd')\n",
    "G = matrix(A, tc = 'd')\n",
    "h = matrix(c, tc = 'd')\n",
    "\n",
    "u = solvers.qp(P, q, G, h)['x']\n",
    "np.array(u)"
   ]
  },
  {
   "cell_type": "markdown",
   "metadata": {},
   "source": [
    "Since $\\mathbf u = [b ,\\mathbf w]$ we have that $b=-1$, $w_1=1$ and $w_2=-1$, which coresponds to the solution given in the book. We can also do the same computation using the SVC function with linear kernel and $C=\\infty$."
   ]
  },
  {
   "cell_type": "markdown",
   "metadata": {},
   "source": [
    "## Dual Problem Formulation\n",
    "Now we can compute the dual formulation of the same example to illustrate the process. Note that now we have the following setup:\n",
    "$$\n",
    "min_{\\alpha \\in \\R^N} \\ \\ \\frac{1}{2}\\sum_{m=1}^{N}\\sum_{n=1}^{N} y_ny_m\\alpha_n\\alpha_m\\mathbf x_n^T\\mathbf x_m - \\sum_{n=1}^{N} \\alpha_n\n",
    "$$\n",
    "$$\n",
    "\\text{subject to:  }\\ \\ \\sum_{n=1}^{N} y_n\\alpha_n= 0 \n",
    "$$\n",
    "$$\n",
    "\\alpha_n \\geq 0\n",
    "$$\n",
    "or\n",
    "$$\n",
    "min_{\\alpha \\in \\R^N} \\ \\ \\frac{1}{2}\\alpha^TQ_D\\alpha-1_N^T\\alpha\n",
    "$$\n",
    "$$\n",
    "\\text{subject to:  }\\ \\ A_D\\alpha \\geq 0_{N+2}\n",
    "$$\n",
    "\n",
    "where\n",
    "$$\n",
    "Q_D=\n",
    "\\begin{bmatrix}\n",
    "y_1y_1\\mathbf x_1^T\\mathbf x_1&\\cdots&y_1y_N\\mathbf x_1^T\\mathbf x_N\\\\\n",
    "y_2y_1\\mathbf x_2^T\\mathbf x_1&\\cdots&y_2y_N\\mathbf x_2^T\\mathbf x_N\\\\\n",
    "\\vdots&\\vdots&\\vdots \\\\\n",
    "y_Ny_1\\mathbf x_N^T\\mathbf x_1&\\cdots&y_Ny_N\\mathbf x_N^T\\mathbf x_N\\\\\n",
    "\\end{bmatrix}\n",
    "$$\n",
    "and\n",
    "$$\n",
    "A_D=\n",
    "\\begin{bmatrix}\n",
    "\\mathbf y^T\\\\\n",
    "-\\mathbf y^T\\\\\n",
    "I_{N\\times N}\\\\\n",
    "\\end{bmatrix}\n",
    "$$\n",
    "\n",
    "So we have another QP problem for which we can use the same solver as in previous section, but first we need to define the inputs correctly."
   ]
  },
  {
   "cell_type": "code",
   "execution_count": 6,
   "metadata": {},
   "outputs": [],
   "source": [
    "y = y.reshape(-1,1)\n",
    "QD = (np.dot(y,y.T)) * (np.dot(X,X.T))\n",
    "P = matrix(QD, tc = 'd')"
   ]
  },
  {
   "cell_type": "code",
   "execution_count": 7,
   "metadata": {},
   "outputs": [],
   "source": [
    "AD = -np.vstack([y.T,-y.T,np.eye(M)])\n",
    "A = matrix (AD, tc = 'd')"
   ]
  },
  {
   "cell_type": "code",
   "execution_count": 8,
   "metadata": {},
   "outputs": [],
   "source": [
    "q = matrix(-np.ones((M,1)), tc = 'd')\n",
    "h = matrix(np.zeros((M+2)), tc='d')"
   ]
  },
  {
   "cell_type": "code",
   "execution_count": 9,
   "metadata": {},
   "outputs": [
    {
     "name": "stdout",
     "output_type": "stream",
     "text": [
      "     pcost       dcost       gap    pres   dres\n",
      " 0: -1.0249e+00 -2.3063e+00  1e+01  3e+00  2e+00\n",
      " 1: -8.2851e-01 -1.7889e+00  1e+00  1e-01  6e-02\n",
      " 2: -9.8330e-01 -1.0720e+00  1e-01  4e-03  2e-03\n",
      " 3: -9.9979e-01 -1.0008e+00  1e-03  4e-05  2e-05\n",
      " 4: -1.0000e+00 -1.0000e+00  1e-05  4e-07  2e-07\n",
      " 5: -1.0000e+00 -1.0000e+00  1e-07  4e-09  2e-09\n",
      "Optimal solution found.\n"
     ]
    }
   ],
   "source": [
    "sol = solvers.qp(P,q,A,h)"
   ]
  },
  {
   "cell_type": "code",
   "execution_count": 10,
   "metadata": {},
   "outputs": [
    {
     "data": {
      "text/plain": [
       "array([[ 0.5],\n",
       "       [ 0.5],\n",
       "       [ 1. ],\n",
       "       [ 0. ]])"
      ]
     },
     "execution_count": 10,
     "metadata": {},
     "output_type": "execute_result"
    }
   ],
   "source": [
    "alpha = np.around(np.array(sol['x']), decimals = 2)\n",
    "alpha"
   ]
  },
  {
   "cell_type": "markdown",
   "metadata": {},
   "source": [
    "Count number of support vectors"
   ]
  },
  {
   "cell_type": "code",
   "execution_count": 11,
   "metadata": {},
   "outputs": [
    {
     "data": {
      "text/plain": [
       "3"
      ]
     },
     "execution_count": 11,
     "metadata": {},
     "output_type": "execute_result"
    }
   ],
   "source": [
    "len(alpha[alpha>0])"
   ]
  },
  {
   "cell_type": "markdown",
   "metadata": {},
   "source": [
    "From the obtained $\\alpha$ we can now get the weights using $\\mathbf w^*=\\sum_{n=1}^{N} y_n\\alpha_n\\mathbf x_n$."
   ]
  },
  {
   "cell_type": "code",
   "execution_count": 12,
   "metadata": {},
   "outputs": [
    {
     "data": {
      "text/plain": [
       "array([[ 1.],\n",
       "       [-1.]])"
      ]
     },
     "execution_count": 12,
     "metadata": {},
     "output_type": "execute_result"
    }
   ],
   "source": [
    "w_svm1 = np.dot(X.T,y*alpha)\n",
    "w_svm1"
   ]
  },
  {
   "cell_type": "markdown",
   "metadata": {},
   "source": [
    "Now to get $b$ we need $\\alpha > 0$ in order for the constraint to be exactly satisfied and hence we can solve for $b$. $\\alpha_1 = \\frac{1}{2}>0$ then\n",
    "$y_n(\\mathbf w^{*T}x_1+b^*)=1$. So first we need $y$ and $X$ for which $\\alpha > 0$."
   ]
  },
  {
   "cell_type": "code",
   "execution_count": 13,
   "metadata": {},
   "outputs": [],
   "source": [
    "ys = y[alpha>0]\n",
    "idx = alpha.reshape(X.shape[0])\n",
    "Xs = X[idx > 0,:]"
   ]
  },
  {
   "cell_type": "markdown",
   "metadata": {},
   "source": [
    "We can pick any point from `Xs` to obtain $b$."
   ]
  },
  {
   "cell_type": "code",
   "execution_count": 14,
   "metadata": {},
   "outputs": [
    {
     "data": {
      "text/plain": [
       "-1.0"
      ]
     },
     "execution_count": 14,
     "metadata": {},
     "output_type": "execute_result"
    }
   ],
   "source": [
    "i = 1\n",
    "b = ys[i] - np.sum(w_svm1.T*Xs[i])\n",
    "b"
   ]
  },
  {
   "cell_type": "markdown",
   "metadata": {},
   "source": [
    "Hence, our final weights are $[b,\\mathbf w] = [-1,1,-1]$."
   ]
  }
 ],
 "metadata": {
  "kernelspec": {
   "display_name": "Python 3",
   "language": "python",
   "name": "python3"
  },
  "language_info": {
   "codemirror_mode": {
    "name": "ipython",
    "version": 3
   },
   "file_extension": ".py",
   "mimetype": "text/x-python",
   "name": "python",
   "nbconvert_exporter": "python",
   "pygments_lexer": "ipython3",
   "version": "3.6.3"
  }
 },
 "nbformat": 4,
 "nbformat_minor": 2
}
